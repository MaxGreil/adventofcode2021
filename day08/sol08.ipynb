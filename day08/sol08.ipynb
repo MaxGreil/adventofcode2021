{
 "cells": [
  {
   "cell_type": "markdown",
   "id": "45fa0e50-2189-47fa-932e-3554171dafdd",
   "metadata": {},
   "source": [
    "Part One"
   ]
  },
  {
   "cell_type": "code",
   "execution_count": 3,
   "id": "9e97580c-198f-414d-a069-6223d3380d61",
   "metadata": {},
   "outputs": [
    {
     "data": {
      "text/plain": [
       "493"
      ]
     },
     "execution_count": 3,
     "metadata": {},
     "output_type": "execute_result"
    }
   ],
   "source": [
    "counter = 0\n",
    "\n",
    "with open ('input.txt') as file:\n",
    "    for line in file:\n",
    "        l = [len(x) for x in line.split(' | ')[1].split()]\n",
    "        counter += l.count(2) + l.count(4) + l.count(3) + l.count(7)\n",
    "\n",
    "counter"
   ]
  },
  {
   "cell_type": "markdown",
   "id": "c9bc8be6-4946-4833-aa8f-8fff30e4efb0",
   "metadata": {},
   "source": [
    "Part Two"
   ]
  },
  {
   "cell_type": "code",
   "execution_count": null,
   "id": "9304aa01-e7ef-4bc9-822b-6b91aba700c8",
   "metadata": {},
   "outputs": [],
   "source": [
    "# 1 -> 7 -> 3 -> 4 -> 2 -> 5 -> 6 -> 0 -> 9 -> 8 \n",
    "# defaultdict -> key = strings (sorted), value = number"
   ]
  }
 ],
 "metadata": {
  "kernelspec": {
   "display_name": "Python 3 (ipykernel)",
   "language": "python",
   "name": "python3"
  },
  "language_info": {
   "codemirror_mode": {
    "name": "ipython",
    "version": 3
   },
   "file_extension": ".py",
   "mimetype": "text/x-python",
   "name": "python",
   "nbconvert_exporter": "python",
   "pygments_lexer": "ipython3",
   "version": "3.9.7"
  }
 },
 "nbformat": 4,
 "nbformat_minor": 5
}
