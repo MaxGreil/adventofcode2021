{
 "cells": [
  {
   "cell_type": "code",
   "execution_count": 1,
   "id": "d330d9df-6aaf-436f-8b2d-429299c8bad6",
   "metadata": {},
   "outputs": [],
   "source": [
    "import numpy as np"
   ]
  },
  {
   "cell_type": "code",
   "execution_count": 2,
   "id": "2d7e2095-f350-437e-a937-1f25e45457fa",
   "metadata": {},
   "outputs": [],
   "source": [
    "with open('input.txt') as file:\n",
    "    data = ([int(i) for i in list(file)[0].split(\",\")])"
   ]
  },
  {
   "cell_type": "markdown",
   "id": "ac10b24d-edd5-433a-9a4a-b96fdc836c59",
   "metadata": {},
   "source": [
    "Part One"
   ]
  },
  {
   "cell_type": "code",
   "execution_count": 3,
   "id": "486e206f-c05a-4172-884e-672b0d767bb2",
   "metadata": {},
   "outputs": [
    {
     "data": {
      "text/plain": [
       "357353"
      ]
     },
     "execution_count": 3,
     "metadata": {},
     "output_type": "execute_result"
    }
   ],
   "source": [
    "l = [None] * max(data)\n",
    "\n",
    "for i in range(1, max(data)+1):\n",
    "    l[i-1] = sum(abs(np.asarray(data) - i))\n",
    "\n",
    "min(l)"
   ]
  },
  {
   "cell_type": "markdown",
   "id": "9c5fe338-b39f-4c38-bc33-862dffd50cc7",
   "metadata": {},
   "source": [
    "Part Two"
   ]
  },
  {
   "cell_type": "code",
   "execution_count": 4,
   "id": "fdf77d31-17ff-4e62-8289-4124115629d9",
   "metadata": {},
   "outputs": [
    {
     "data": {
      "text/plain": [
       "104822130"
      ]
     },
     "execution_count": 4,
     "metadata": {},
     "output_type": "execute_result"
    }
   ],
   "source": [
    "l = [None] * max(data)\n",
    "\n",
    "for i in range(1, max(data)+1):\n",
    "    # Gaussian empirical formula\n",
    "    l[i-1] = sum([(n * n + n) // 2 for n in abs(np.asarray(data) - i)])\n",
    "\n",
    "min(l)"
   ]
  }
 ],
 "metadata": {
  "kernelspec": {
   "display_name": "Python 3 (ipykernel)",
   "language": "python",
   "name": "python3"
  },
  "language_info": {
   "codemirror_mode": {
    "name": "ipython",
    "version": 3
   },
   "file_extension": ".py",
   "mimetype": "text/x-python",
   "name": "python",
   "nbconvert_exporter": "python",
   "pygments_lexer": "ipython3",
   "version": "3.9.7"
  }
 },
 "nbformat": 4,
 "nbformat_minor": 5
}
