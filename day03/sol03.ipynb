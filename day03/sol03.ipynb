{
 "cells": [
  {
   "cell_type": "code",
   "execution_count": 1,
   "id": "e0ac3a21-2120-4bb4-a7ed-bc7780029614",
   "metadata": {},
   "outputs": [
    {
     "data": {
      "text/plain": [
       "1000"
      ]
     },
     "execution_count": 1,
     "metadata": {},
     "output_type": "execute_result"
    }
   ],
   "source": [
    "with open('input.txt') as file:\n",
    "    data = [i.rstrip('\\n') for i in file]\n",
    "\n",
    "len(data)"
   ]
  },
  {
   "cell_type": "markdown",
   "id": "5bcee700-42fc-49cf-a612-f1c9413ebecc",
   "metadata": {},
   "source": [
    "Part One"
   ]
  },
  {
   "cell_type": "code",
   "execution_count": 2,
   "id": "961a51be-8b54-4fe2-b110-2864efd26ad6",
   "metadata": {},
   "outputs": [
    {
     "data": {
      "text/plain": [
       "3901196"
      ]
     },
     "execution_count": 2,
     "metadata": {},
     "output_type": "execute_result"
    }
   ],
   "source": [
    "from collections import Counter\n",
    "\n",
    "gamma = ''\n",
    "\n",
    "for i in range(len(data[0])):\n",
    "    gamma += Counter(''.join([w[i] for w in data])).most_common(1)[0][0]\n",
    "\n",
    "epsilon = ''.join('0' if c=='1' else ('1' if c=='0' else c) for c in gamma)\n",
    "        \n",
    "int(gamma, 2) * int(epsilon, 2)"
   ]
  },
  {
   "cell_type": "markdown",
   "id": "022dc529-7926-4cb3-a929-156b7f4e0e20",
   "metadata": {},
   "source": [
    "Part Two"
   ]
  },
  {
   "cell_type": "code",
   "execution_count": 3,
   "id": "d79a5569-04bc-441f-8042-826b7dd71a53",
   "metadata": {},
   "outputs": [
    {
     "data": {
      "text/plain": [
       "4412188"
      ]
     },
     "execution_count": 3,
     "metadata": {},
     "output_type": "execute_result"
    }
   ],
   "source": [
    "data_ogr = data # oxygen generator rating\n",
    "data_csr = data # CO2 scrubber rating\n",
    "\n",
    "# ogr\n",
    "for i in range(len(data[0])):\n",
    "    res = Counter(''.join([w[i] for w in data_ogr]))\n",
    "    if res['0'] == res['1']:\n",
    "        key = '1'\n",
    "    else:\n",
    "        key = max(res, key=res.get)\n",
    "    data_ogr = [ x for x in data_ogr if key == x[i] ]\n",
    "    if len(data_ogr) == 1:\n",
    "        break\n",
    "        \n",
    "# csr\n",
    "for i in range(len(data[0])):\n",
    "    res = Counter(''.join([w[i] for w in data_csr]))\n",
    "    if res['0'] == res['1']:\n",
    "        key = '1'\n",
    "    else:\n",
    "        key = max(res, key=res.get)\n",
    "    data_csr = [ x for x in data_csr if key != x[i] ]\n",
    "    if len(data_csr) == 1:\n",
    "        break\n",
    "        \n",
    "int(data_ogr[0], 2) * int(data_csr[0], 2)"
   ]
  }
 ],
 "metadata": {
  "kernelspec": {
   "display_name": "Python 3 (ipykernel)",
   "language": "python",
   "name": "python3"
  },
  "language_info": {
   "codemirror_mode": {
    "name": "ipython",
    "version": 3
   },
   "file_extension": ".py",
   "mimetype": "text/x-python",
   "name": "python",
   "nbconvert_exporter": "python",
   "pygments_lexer": "ipython3",
   "version": "3.9.7"
  }
 },
 "nbformat": 4,
 "nbformat_minor": 5
}
