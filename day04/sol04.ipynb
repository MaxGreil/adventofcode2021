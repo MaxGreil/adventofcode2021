{
 "cells": [
  {
   "cell_type": "code",
   "execution_count": 1,
   "id": "0da72e83-713f-4b89-813c-aef4da87a30a",
   "metadata": {},
   "outputs": [],
   "source": [
    "import numpy as np"
   ]
  },
  {
   "cell_type": "markdown",
   "id": "e2e34eec-d103-450e-a660-e27582bcc412",
   "metadata": {},
   "source": [
    "Part One"
   ]
  },
  {
   "cell_type": "code",
   "execution_count": 2,
   "id": "591daa27-d54e-4371-ab9c-f8cc8b39b301",
   "metadata": {},
   "outputs": [
    {
     "data": {
      "text/plain": [
       "44088"
      ]
     },
     "execution_count": 2,
     "metadata": {},
     "output_type": "execute_result"
    }
   ],
   "source": [
    "with open('input.txt') as file:\n",
    "    data = [i.rstrip('\\n') for i in file]\n",
    "\n",
    "numbers = [int(i) for i in data[0].split(',')]\n",
    "\n",
    "boards = list()\n",
    "z = list()\n",
    "\n",
    "for line in data[2:] :\n",
    "    if line != '':\n",
    "        z.append([int(i) for i in line.split()])\n",
    "    else:\n",
    "        boards.append(np.asarray(z))\n",
    "        z = list()\n",
    "        \n",
    "boards.append(np.asarray(z))\n",
    "\n",
    "for i in range(len(numbers)):\n",
    "    for b in boards:\n",
    "        b[b == numbers[i]] = -1 # mark found number\n",
    "        if -5 in np.sum(b, axis=0): # column\n",
    "            res = numbers[i] * sum(b[b > -1])\n",
    "            break\n",
    "        if -5 in np.sum(b, axis=1): # row\n",
    "            res = numbers[i] * sum(b[b > -1])\n",
    "            break\n",
    "    else:\n",
    "        continue\n",
    "    break\n",
    "    \n",
    "res"
   ]
  },
  {
   "cell_type": "markdown",
   "id": "54910b99-a555-42a9-becd-8f4c33c40740",
   "metadata": {},
   "source": [
    "Part Two"
   ]
  },
  {
   "cell_type": "code",
   "execution_count": 3,
   "id": "a5c014c9-876c-4e9b-98ae-4f5cddf6df40",
   "metadata": {},
   "outputs": [
    {
     "data": {
      "text/plain": [
       "23670"
      ]
     },
     "execution_count": 3,
     "metadata": {},
     "output_type": "execute_result"
    }
   ],
   "source": [
    "with open('input.txt') as file:\n",
    "    data = [i.rstrip('\\n') for i in file]\n",
    "\n",
    "numbers = [int(i) for i in data[0].split(',')]\n",
    "\n",
    "boards = list()\n",
    "z = list()\n",
    "\n",
    "for line in data[2:] :\n",
    "    if line != '':\n",
    "        z.append([int(i) for i in line.split()])\n",
    "    else:\n",
    "        boards.append(np.asarray(z))\n",
    "        z = list()\n",
    "        \n",
    "boards.append(np.asarray(z))\n",
    "\n",
    "l = list()\n",
    "for i in range(len(numbers)):\n",
    "    for j in range(len(boards)):\n",
    "        boards[j][boards[j] == numbers[i]] = -1 # mark found number\n",
    "        if -5 in np.sum(boards[j], axis=0): # column\n",
    "            if j not in l:\n",
    "                l.append(j)\n",
    "                if len(l) == len(boards):\n",
    "                    res =  numbers[i] * sum(boards[j][boards[j] > -1])\n",
    "                    break\n",
    "        if -5 in np.sum(boards[j], axis=1): # row\n",
    "            if j not in l:\n",
    "                l.append(j)\n",
    "                if len(l) == len(boards):\n",
    "                    res =  numbers[i] * sum(boards[j][boards[j] > -1])\n",
    "                    break\n",
    "    else:\n",
    "        continue\n",
    "    break\n",
    "\n",
    "res"
   ]
  }
 ],
 "metadata": {
  "kernelspec": {
   "display_name": "Python 3 (ipykernel)",
   "language": "python",
   "name": "python3"
  },
  "language_info": {
   "codemirror_mode": {
    "name": "ipython",
    "version": 3
   },
   "file_extension": ".py",
   "mimetype": "text/x-python",
   "name": "python",
   "nbconvert_exporter": "python",
   "pygments_lexer": "ipython3",
   "version": "3.9.7"
  }
 },
 "nbformat": 4,
 "nbformat_minor": 5
}
