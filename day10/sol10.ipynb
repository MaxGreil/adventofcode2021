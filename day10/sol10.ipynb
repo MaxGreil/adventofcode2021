{
 "cells": [
  {
   "cell_type": "code",
   "execution_count": 1,
   "id": "26293434-aa94-4d02-b891-345383b9b106",
   "metadata": {},
   "outputs": [
    {
     "name": "stdout",
     "output_type": "stream",
     "text": [
      "94\n"
     ]
    }
   ],
   "source": [
    "with open('input.txt') as file:\n",
    "    data = [i.rstrip('\\n') for i in file]\n",
    "\n",
    "print(len(data))"
   ]
  },
  {
   "cell_type": "markdown",
   "id": "0abedf47-b006-45c6-bfd0-4641e8eeed71",
   "metadata": {},
   "source": [
    "Part One"
   ]
  },
  {
   "cell_type": "code",
   "execution_count": 2,
   "id": "91d9a556-1060-4aa6-8a7b-11a0a1fad29f",
   "metadata": {},
   "outputs": [
    {
     "data": {
      "text/plain": [
       "413733"
      ]
     },
     "execution_count": 2,
     "metadata": {},
     "output_type": "execute_result"
    }
   ],
   "source": [
    "openList = [\"[\", \"{\", \"(\", \"<\"]\n",
    "closeList = [\"]\", \"}\", \")\", \">\"]\n",
    "\n",
    "corrupted = list()\n",
    "\n",
    "stack = []\n",
    "score = 0\n",
    "for i in range(len(data)):\n",
    "    for j in data[i]:\n",
    "        if j in openList:\n",
    "            stack.append(j)\n",
    "        elif j in closeList:\n",
    "            pos = closeList.index(j)\n",
    "            if len(stack) > 0 and openList[pos] == stack[-1]:\n",
    "                stack.pop()\n",
    "            else:\n",
    "                if j == ')':\n",
    "                    score += 3 \n",
    "                elif j == ']':\n",
    "                    score += 57\n",
    "                elif j == '}':\n",
    "                    score += 1197\n",
    "                else:\n",
    "                    score += 25137\n",
    "                corrupted.append(data[i])\n",
    "                break\n",
    "score"
   ]
  },
  {
   "cell_type": "markdown",
   "id": "fc76d3a2-bf16-420e-ba06-b53583f0120f",
   "metadata": {},
   "source": [
    "Part Two"
   ]
  },
  {
   "cell_type": "code",
   "execution_count": 3,
   "id": "227ddb71-f347-4313-b4a6-070c79a6171f",
   "metadata": {},
   "outputs": [],
   "source": [
    "incomplete = list(set(data) - set(corrupted))"
   ]
  }
 ],
 "metadata": {
  "kernelspec": {
   "display_name": "Python 3 (ipykernel)",
   "language": "python",
   "name": "python3"
  },
  "language_info": {
   "codemirror_mode": {
    "name": "ipython",
    "version": 3
   },
   "file_extension": ".py",
   "mimetype": "text/x-python",
   "name": "python",
   "nbconvert_exporter": "python",
   "pygments_lexer": "ipython3",
   "version": "3.9.7"
  }
 },
 "nbformat": 4,
 "nbformat_minor": 5
}
