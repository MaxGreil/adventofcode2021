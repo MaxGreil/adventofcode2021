{
 "cells": [
  {
   "cell_type": "code",
   "execution_count": 1,
   "id": "33307690-6d93-4a52-905b-675284342431",
   "metadata": {},
   "outputs": [],
   "source": [
    "import numpy as np\n",
    "\n",
    "l1 = list()\n",
    "l2 = list()\n",
    "\n",
    "max = 0\n",
    "\n",
    "with open('input.txt') as file:\n",
    "    for line in file:\n",
    "        (p1, p2) = line.rstrip('\\n').split(' -> ')\n",
    "        l1.append([int(i) for i in p1.split(',')])\n",
    "        if max < l1[-1][1]:\n",
    "            max = l1[-1][1]\n",
    "        l2.append([int(i) for i in p2.split(',')])\n",
    "        if max < l2[-1][1]:\n",
    "            max = l2[-1][1]"
   ]
  },
  {
   "cell_type": "markdown",
   "id": "37c20447-f6ae-4016-b27c-dbf3fb8a087f",
   "metadata": {},
   "source": [
    "Part One"
   ]
  },
  {
   "cell_type": "code",
   "execution_count": 2,
   "id": "52a78d59-9326-45c2-8ff4-67113ced4d7c",
   "metadata": {},
   "outputs": [
    {
     "data": {
      "text/plain": [
       "6548"
      ]
     },
     "execution_count": 2,
     "metadata": {},
     "output_type": "execute_result"
    }
   ],
   "source": [
    "diagram = np.zeros((max+1, max+1))\n",
    "\n",
    "for i in range(len(l1)):\n",
    "    if l1[i][0] == l2[i][0]: # x1 = x2\n",
    "        if l1[i][1] < l2[i][1]: # y1 < y2\n",
    "            for j in range(l1[i][1], l2[i][1]+1):\n",
    "                diagram[j, l1[i][0]] += 1\n",
    "        else:\n",
    "            for j in range(l2[i][1], l1[i][1]+1):\n",
    "                diagram[j, l1[i][0]] += 1\n",
    "    elif l1[i][1] == l2[i][1]: # y1 = y2\n",
    "        if l1[i][0] < l2[i][0]: # x1 < x2\n",
    "            for j in range(l1[i][0], l2[i][0]+1):\n",
    "                diagram[l1[i][1], j] += 1\n",
    "        else:\n",
    "            for j in range(l2[i][0], l1[i][0]+1):\n",
    "                diagram[l1[i][1], j] += 1\n",
    "                \n",
    "unique, counts = np.unique(diagram, return_counts=True)\n",
    "sum(counts[np.where(unique > 1)[0]])"
   ]
  },
  {
   "cell_type": "markdown",
   "id": "4d2f977a-2273-4203-a7b7-2f1d32ee91a6",
   "metadata": {},
   "source": [
    "Part Two"
   ]
  },
  {
   "cell_type": "code",
   "execution_count": 3,
   "id": "02170233-046d-4dc2-936b-2cf6923de6b7",
   "metadata": {},
   "outputs": [
    {
     "data": {
      "text/plain": [
       "13354"
      ]
     },
     "execution_count": 3,
     "metadata": {},
     "output_type": "execute_result"
    }
   ],
   "source": [
    "for i in range(len(l1)):\n",
    "    if abs(l1[i][0] - l1[i][1]) == abs(l2[i][0] - l2[i][1]): # diagonal\n",
    "        if l1[i][0] == l1[i][1] and l2[i][0] == l2[i][1]: # x1 = y1, x2 = y2\n",
    "            if l1[i][0] < l2[i][0]:\n",
    "                for j in range(l1[i][0], l2[i][0]+1):\n",
    "                    diagram[l1[i][0]+j, l1[i][0]+j] += 1\n",
    "            else:\n",
    "                for j in range(l2[i][0], l1[i][0]+1):\n",
    "                    diagram[l2[i][0]+j, l2[i][0]+j] += 1\n",
    "        elif l1[i][0] == l2[i][1] and l1[i][1] == l2[i][0]: # x1 = y2, y1 = x2\n",
    "            if l1[i][0] < l2[i][0]:\n",
    "                for j in range(l1[i][0], l2[i][0]+1):\n",
    "                    diagram[l1[i][0]+j, l2[i][0]-j] += 1\n",
    "            else:\n",
    "                for j in range(l2[i][0], l1[i][0]+1):\n",
    "                    diagram[l2[i][0]+j, l1[i][0]-j] += 1\n",
    "        else:\n",
    "            if l1[i][0] < l2[i][0]:\n",
    "                for j in range(0, l2[i][0]+1 - l1[i][0]):\n",
    "                    diagram[l1[i][1]+j, l1[i][0]+j] += 1\n",
    "            else:\n",
    "                for j in range(0, l1[i][0]+1 - l2[i][0]):\n",
    "                    diagram[l2[i][1]+j, l2[i][0]+j] += 1\n",
    "                \n",
    "unique, counts = np.unique(diagram, return_counts=True)\n",
    "sum(counts[np.where(unique > 1)[0]])"
   ]
  }
 ],
 "metadata": {
  "kernelspec": {
   "display_name": "Python 3 (ipykernel)",
   "language": "python",
   "name": "python3"
  },
  "language_info": {
   "codemirror_mode": {
    "name": "ipython",
    "version": 3
   },
   "file_extension": ".py",
   "mimetype": "text/x-python",
   "name": "python",
   "nbconvert_exporter": "python",
   "pygments_lexer": "ipython3",
   "version": "3.9.7"
  }
 },
 "nbformat": 4,
 "nbformat_minor": 5
}
