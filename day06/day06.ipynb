{
 "cells": [
  {
   "cell_type": "code",
   "execution_count": 1,
   "id": "91a5fbf8-90e6-4ac3-afa7-3ca44d393fc5",
   "metadata": {},
   "outputs": [],
   "source": [
    "import numpy as np\n",
    "from collections import Counter, defaultdict"
   ]
  },
  {
   "cell_type": "markdown",
   "id": "6e178d0c-bbcf-4ca7-995e-ba8f3a08dec0",
   "metadata": {},
   "source": [
    "Part One"
   ]
  },
  {
   "cell_type": "code",
   "execution_count": 4,
   "id": "84c921f5-8c51-4a58-b1a9-7241b17f6312",
   "metadata": {},
   "outputs": [
    {
     "name": "stdout",
     "output_type": "stream",
     "text": [
      "379414\n"
     ]
    }
   ],
   "source": [
    "with open('input.txt') as file:\n",
    "    data = np.asarray([int(i) for i in list(file)[0].split(\",\")])\n",
    "\n",
    "for i in range(0, 80):\n",
    "    data -= 1\n",
    "    unique, counts = np.unique(data, return_counts=True)\n",
    "    data = np.append(data, [8] * sum(counts[np.where(unique == -1)[0]]))\n",
    "    data[data == -1] = 6\n",
    "\n",
    "print(len(data))"
   ]
  },
  {
   "cell_type": "markdown",
   "id": "43695a9c-6849-486e-a98c-6dfb139b79fb",
   "metadata": {},
   "source": [
    "Part Two"
   ]
  },
  {
   "cell_type": "code",
   "execution_count": 3,
   "id": "a3794002-694c-4cdb-9629-39df409e918e",
   "metadata": {},
   "outputs": [
    {
     "data": {
      "text/plain": [
       "1705008653296"
      ]
     },
     "execution_count": 3,
     "metadata": {},
     "output_type": "execute_result"
    }
   ],
   "source": [
    "with open('input.txt') as file:\n",
    "    data = Counter([int(i) for i in list(file)[0].split(\",\")])\n",
    "\n",
    "for i in range(0, 256):\n",
    "    dict = defaultdict(int)\n",
    "    for key, value in sorted(data.items()):\n",
    "        if key == 0:\n",
    "            dict[6] += value\n",
    "            dict[8] = value\n",
    "        else:\n",
    "            dict[key-1] += value\n",
    "    data = dict\n",
    "\n",
    "sum(data.values())"
   ]
  }
 ],
 "metadata": {
  "kernelspec": {
   "display_name": "Python 3 (ipykernel)",
   "language": "python",
   "name": "python3"
  },
  "language_info": {
   "codemirror_mode": {
    "name": "ipython",
    "version": 3
   },
   "file_extension": ".py",
   "mimetype": "text/x-python",
   "name": "python",
   "nbconvert_exporter": "python",
   "pygments_lexer": "ipython3",
   "version": "3.9.7"
  }
 },
 "nbformat": 4,
 "nbformat_minor": 5
}
