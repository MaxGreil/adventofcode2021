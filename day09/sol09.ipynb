{
 "cells": [
  {
   "cell_type": "code",
   "execution_count": 19,
   "id": "44d6afbc-949b-4065-b52a-536ee269e62e",
   "metadata": {},
   "outputs": [
    {
     "name": "stdout",
     "output_type": "stream",
     "text": [
      "100\n",
      "100\n"
     ]
    }
   ],
   "source": [
    "with open('input.txt') as file:\n",
    "    data = [list(map(int, list(i.rstrip('\\n')))) for i in file]\n",
    "\n",
    "print(len(data)) # row\n",
    "print(len(data[0])) # column"
   ]
  },
  {
   "cell_type": "markdown",
   "id": "6534afd2-9b42-449f-abb6-f6ca621f9a4b",
   "metadata": {},
   "source": [
    "Part One"
   ]
  },
  {
   "cell_type": "code",
   "execution_count": null,
   "id": "17b23c91-ff54-4a59-b192-6f1d6e878674",
   "metadata": {},
   "outputs": [
    {
     "name": "stdout",
     "output_type": "stream",
     "text": [
      "494\n"
     ]
    }
   ],
   "source": [
    "risk = 0\n",
    "\n",
    "for i in range(len(data)):\n",
    "    for j in range(len(data[0])):\n",
    "        if i == 0 and j == 0: # [0][0]\n",
    "            if data[i][j] == min([data[i][j+1], data[i+1][j], data[i][j]]) and data[i][j] < 9:\n",
    "                risk += data[i][j] + 1\n",
    "        elif i == len(data)-1 and j == 0: # [max i][0]\n",
    "            if data[i][j] == min([data[i-1][j], data[i][j+1], data[i][j]]) and data[i][j] < 9:\n",
    "                risk += data[i][j] + 1\n",
    "        elif i == len(data)-1 and j == len(data[0])-1: # [max i][max j]\n",
    "            if data[i][j] == min([data[i-1][j], data[i][j-1], data[i][j]]) and data[i][j] < 9:\n",
    "                risk += data[i][j] + 1\n",
    "        elif i == 0 and j == len(data[0])-1: # [0][max j]\n",
    "            if data[i][j] == min([data[i][j-1], data[i+1][j], data[i][j]]) and data[i][j] < 9:\n",
    "                risk += data[i][j] + 1\n",
    "        elif i == 0 and j > 0 and j < len(data[0])-1: # [0][j]\n",
    "            if data[i][j] == min([data[i][j-1], data[i][j+1], data[i+1][j], data[i][j]]) and data[i][j] < 9:\n",
    "                risk += data[i][j] + 1\n",
    "        elif i == len(data)-1 and j > 0 and j < len(data[0])-1: # [max i][j]\n",
    "            if data[i][j] == min([data[i-1][j], data[i][j+1], data[i][j-1], data[i][j]]) and data[i][j] < 9:\n",
    "                risk += data[i][j] + 1\n",
    "        elif i > 0 and i < len(data)-1 and j == 0: # [i][0]\n",
    "            if data[i][j] == min([data[i-1][j], data[i+1][j], data[i][j+1], data[i][j]]) and data[i][j] < 9:\n",
    "                risk += data[i][j] + 1\n",
    "        elif i > 0 and i < len(data)-1 and j == len(data[0])-1: # [i][max j]\n",
    "            if data[i][j] == min([data[i-1][j], data[i+1][j], data[i][j-1], data[i][j]]) and data[i][j] < 9:\n",
    "                risk += data[i][j] + 1\n",
    "        else:\n",
    "            if data[i][j] == min([data[i-1][j], data[i+1][j], data[i][j-1], data[i][j+1], data[i][j]]) and data[i][j] < 9:\n",
    "                risk += data[i][j] + 1\n",
    "                \n",
    "print(risk)"
   ]
  },
  {
   "cell_type": "markdown",
   "id": "8426412d-34c2-407d-92a2-66198862fd4f",
   "metadata": {},
   "source": [
    "Part Two"
   ]
  },
  {
   "cell_type": "code",
   "execution_count": null,
   "id": "d928898b-f15f-4ce3-9cdb-f10ffb2b66c8",
   "metadata": {},
   "outputs": [],
   "source": []
  }
 ],
 "metadata": {
  "kernelspec": {
   "display_name": "Python 3 (ipykernel)",
   "language": "python",
   "name": "python3"
  },
  "language_info": {
   "codemirror_mode": {
    "name": "ipython",
    "version": 3
   },
   "file_extension": ".py",
   "mimetype": "text/x-python",
   "name": "python",
   "nbconvert_exporter": "python",
   "pygments_lexer": "ipython3",
   "version": "3.9.7"
  }
 },
 "nbformat": 4,
 "nbformat_minor": 5
}
