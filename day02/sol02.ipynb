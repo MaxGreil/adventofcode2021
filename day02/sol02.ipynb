{
 "cells": [
  {
   "cell_type": "markdown",
   "id": "466c8e51-ee73-45a7-80d5-7445c54f47d4",
   "metadata": {},
   "source": [
    "Part One"
   ]
  },
  {
   "cell_type": "code",
   "execution_count": 1,
   "id": "6be17739-769b-4388-93bc-740ed356b20a",
   "metadata": {},
   "outputs": [
    {
     "data": {
      "text/plain": [
       "1868935"
      ]
     },
     "execution_count": 1,
     "metadata": {},
     "output_type": "execute_result"
    }
   ],
   "source": [
    "forward = 0\n",
    "down = 0\n",
    "\n",
    "with open('input.txt') as file:\n",
    "    for line in file:\n",
    "        (key, val) = line.split(' ')\n",
    "        if key == 'forward':\n",
    "            forward += int(val)\n",
    "        elif key == 'down':\n",
    "            down += int(val)\n",
    "        else:\n",
    "            down -= int(val)\n",
    "            \n",
    "forward * down"
   ]
  },
  {
   "cell_type": "markdown",
   "id": "8d022034-16b7-4865-8f1f-02ec912c677e",
   "metadata": {},
   "source": [
    "Part Two"
   ]
  },
  {
   "cell_type": "code",
   "execution_count": 2,
   "id": "6b7a1030-3e51-4c22-8f91-eb82dec88e4c",
   "metadata": {},
   "outputs": [
    {
     "data": {
      "text/plain": [
       "1965970888"
      ]
     },
     "execution_count": 2,
     "metadata": {},
     "output_type": "execute_result"
    }
   ],
   "source": [
    "forward = 0\n",
    "down = 0\n",
    "aim = 0\n",
    "\n",
    "with open('input.txt') as file:\n",
    "    for line in file:\n",
    "        (key, val) = line.split(' ')\n",
    "        if key == 'forward':\n",
    "            forward += int(val) \n",
    "            down += int(val) * aim\n",
    "        elif key == 'down':\n",
    "            aim += int(val)\n",
    "        else:\n",
    "            aim -= int(val)           \n",
    "\n",
    "forward * down"
   ]
  }
 ],
 "metadata": {
  "kernelspec": {
   "display_name": "Python 3 (ipykernel)",
   "language": "python",
   "name": "python3"
  },
  "language_info": {
   "codemirror_mode": {
    "name": "ipython",
    "version": 3
   },
   "file_extension": ".py",
   "mimetype": "text/x-python",
   "name": "python",
   "nbconvert_exporter": "python",
   "pygments_lexer": "ipython3",
   "version": "3.9.7"
  }
 },
 "nbformat": 4,
 "nbformat_minor": 5
}
